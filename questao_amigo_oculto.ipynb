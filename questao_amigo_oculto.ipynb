{
 "cells": [
  {
   "cell_type": "markdown",
   "metadata": {},
   "source": [
    "### Amigo Secreto ⛄\n",
    "\n",
    "Na família Natalícia já é tradição a realização do amigo secreto (ou amigo oculto) na véspera de natal. Todos os anos a família inteira se reune para a troca de presentes. É um momento de muita diversão e descontração.\n",
    "\n",
    "Neste ano, a caçula Jocelina resolveu deixar o momento ainda mais divertido: ela propôs que todos os participantes colocassem em uma lista 3 sugestões para presentes. A partir dessa lista ela pensou em montar um programa que, colocado um nome **N** e um presente **P**, o programa retorna se a pessoa acertou ou não no presente para seu amigo secreto.\n",
    "\n",
    "Só que Joce não sabe muito de programação, e acabou precisando de ajuda para montar esse programa. Você, sendo tomado(a) pelo espírito natalino, aceitou o desafio!\n",
    "\n",
    "#### Entrada\n",
    "\n",
    "```\n",
    "5\n",
    "iara mochila estojo lapis\n",
    "adelar sapato camisa carteira\n",
    "jessica agenda bolsa brincos\n",
    "jocelina xicara meias perfume\n",
    "elaine sandalia sapatilha camiseta\n",
    "jessica carteira\n",
    "jessica agenda\n",
    "iara sandalia\n",
    "elaine mochila\n",
    "iara mochila\n",
    "adelar carteira\n",
    "```\n",
    "\n",
    "#### Saída\n",
    "```\n",
    "Tente Novamente!\n",
    "Uhul! Seu amigo secreto vai adorar o/\n",
    "Tente Novamente!\n",
    "Tente Novamente!\n",
    "Uhul! Seu amigo secreto vai adorar o/\n",
    "Uhul! Seu amigo secreto vai adorar o/\n",
    "```"
   ]
  },
  {
   "cell_type": "code",
   "execution_count": 2,
   "metadata": {},
   "outputs": [
    {
     "name": "stdout",
     "output_type": "stream",
     "text": [
      "==================== Consulta à lista de presentes ====================\n",
      "Tente Novamente!\n",
      "Uhul! Seu amigo secreto vai adorar o/\n"
     ]
    }
   ],
   "source": [
    "participantes = int(input(\"Digite o número de participantes do Amigo Oculto: \"))\n",
    "lista_presentes = {}\n",
    "for i in range(participantes):\n",
    "    nome = input(\"Digite o nome do participante: \")\n",
    "    presente1 = input(\"Digite qual a primeira opção de presente: \")\n",
    "    presente2 = input(\"Digite qual a segunda opção de presente: \")\n",
    "    presente3 = input(\"Digite qual a terceira opção de presente: \")\n",
    "    lista_presentes[nome] = (presente1, presente2, presente3)\n",
    "\n",
    "print(\"==================== Consulta à lista de presentes ====================\")\n",
    "\n",
    "pesquisar = 1\n",
    "\n",
    "while pesquisar == 1:\n",
    "    nome = input(\"Digite o nome do participante: \")\n",
    "    presente = input(\"Digite o presente que pretende dar ao seu amigo oculto: \")\n",
    "    if nome in lista_presentes.keys(): \n",
    "        if presente in lista_presentes[nome]:\n",
    "            print(\"Uhul! Seu amigo secreto vai adorar o/\")\n",
    "        else:\n",
    "            print(\"Tente Novamente!\")\n",
    "    else:\n",
    "        print(\"Participante não cadastrado.\")\n",
    "    \n",
    "    pesquisar = int(input(\"Deseja pesquisar por outro participante? 1 - Sim / 2 - Não.\"))"
   ]
  },
  {
   "cell_type": "code",
   "execution_count": null,
   "metadata": {},
   "outputs": [],
   "source": []
  }
 ],
 "metadata": {
  "interpreter": {
   "hash": "87785effaaa8e2f6cc5f238af510e91c635a7c0e43fe3f3be0e453ad741a6cd7"
  },
  "kernelspec": {
   "display_name": "Python 3.9.7 64-bit ('base': conda)",
   "language": "python",
   "name": "python3"
  },
  "language_info": {
   "codemirror_mode": {
    "name": "ipython",
    "version": 3
   },
   "file_extension": ".py",
   "mimetype": "text/x-python",
   "name": "python",
   "nbconvert_exporter": "python",
   "pygments_lexer": "ipython3",
   "version": "3.9.7"
  },
  "orig_nbformat": 4
 },
 "nbformat": 4,
 "nbformat_minor": 2
}
