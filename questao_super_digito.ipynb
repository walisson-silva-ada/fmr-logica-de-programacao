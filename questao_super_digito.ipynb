{
 "cells": [
  {
   "cell_type": "markdown",
   "metadata": {},
   "source": [
    "#### Super Dígito 🤔\n",
    "\n",
    "O super dígito de um número inteiro *x* é obtido da seguinte forma:\n",
    "\n",
    "- Se *x* é composto por apenas um dígito, então, esse dígito é o super dígito de x.\n",
    "- Do contrário, o super dígito de *x* é igual ao super dígito da soma dos dígitos de x.\n",
    "\n",
    "Perceba que, enquanto não chegarmos a um número composto por apenas **um dígito**, ainda não encontramos o super dígito de *x*.\n",
    "\n",
    "Por exemplificar, o super dígito de 9875 é:\n",
    "\n",
    "```python\n",
    "super_digit(9875) = 9 + 8 + 7 + 5 = 29\n",
    "super_digit(29)   = 2 + 9 = 11\n",
    "super_digit(11)   = 1 + 1 = 2\n",
    "super_digit(2)    = 2\n",
    "```\n",
    "\n",
    "Portanto, no exemplo acima, se *x* for igual a 9875, o seu super dígito é igual a 2, pois calculamos o super dígito da soma dos seus dígitos, até que o resultado fosse apenas um número de apenas **um dígito**.\n",
    "\n",
    "Sabendo disso, o seu desafio é o seguinte:\n",
    "\n",
    "- você irá receber dois números do usuário, *n* e *k*. A partir desses dois números, você formará um novo número *p*, que será a concatenação no número *n*, *k* vezes. Por exemplo, se *n = 9875* e *k = 4*, *p = 9875 9875 9875 9875*; ou seja *p* é 9875, 4 vezes.\n",
    "\n",
    "- Sabendo o valor de *p*, **calcule o seu super dígito por meio de uma função recursiva**.\n",
    "\n",
    "Exemplo de entrada ||| Exemplo de saída\n",
    "------------------ ||| ----------------\n",
    "148 3              ||| 3\n",
    "9875 4             ||| 8\n",
    "123 3              ||| 9"
   ]
  },
  {
   "cell_type": "code",
   "execution_count": 1,
   "metadata": {},
   "outputs": [],
   "source": [
    "def super_digito(p):\n",
    "    if 0 <= p <= 9:\n",
    "        return p\n",
    "    else:\n",
    "        p = str(abs(p))\n",
    "        p = list(p)\n",
    "\n",
    "        soma = 0\n",
    "        for digito in p:\n",
    "            soma += int(digito)\n",
    "\n",
    "        return super_digito(soma)"
   ]
  },
  {
   "cell_type": "code",
   "execution_count": 3,
   "metadata": {},
   "outputs": [
    {
     "name": "stdout",
     "output_type": "stream",
     "text": [
      "O super dígito do número 123123123 é 9.\n"
     ]
    }
   ],
   "source": [
    "n = input(\"Digite um número inteiro: \")\n",
    "k = int(input(\"Digite a quantidade que o número deve ser repetido: \"))\n",
    "\n",
    "entrada = int(n*k)\n",
    "\n",
    "print(f\"O super dígito do número {entrada} é {super_digito(entrada)}.\")"
   ]
  },
  {
   "cell_type": "code",
   "execution_count": null,
   "metadata": {},
   "outputs": [],
   "source": []
  }
 ],
 "metadata": {
  "interpreter": {
   "hash": "87785effaaa8e2f6cc5f238af510e91c635a7c0e43fe3f3be0e453ad741a6cd7"
  },
  "kernelspec": {
   "display_name": "Python 3.9.7 64-bit ('base': conda)",
   "language": "python",
   "name": "python3"
  },
  "language_info": {
   "codemirror_mode": {
    "name": "ipython",
    "version": 3
   },
   "file_extension": ".py",
   "mimetype": "text/x-python",
   "name": "python",
   "nbconvert_exporter": "python",
   "pygments_lexer": "ipython3",
   "version": "3.9.7"
  },
  "orig_nbformat": 4
 },
 "nbformat": 4,
 "nbformat_minor": 2
}
